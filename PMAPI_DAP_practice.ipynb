{
  "nbformat": 4,
  "nbformat_minor": 0,
  "metadata": {
    "colab": {
      "provenance": [],
      "collapsed_sections": [],
      "authorship_tag": "ABX9TyOoTA0xNsfrKIvxhJSU6rOV",
      "include_colab_link": true
    },
    "kernelspec": {
      "name": "ir",
      "display_name": "R"
    },
    "language_info": {
      "name": "R"
    }
  },
  "cells": [
    {
      "cell_type": "markdown",
      "metadata": {
        "id": "view-in-github",
        "colab_type": "text"
      },
      "source": [
        "<a href=\"https://colab.research.google.com/github/IvanMatejcic/PMAPI_DAB/blob/main/PMAPI_DAP_practice.ipynb\" target=\"_parent\"><img src=\"https://colab.research.google.com/assets/colab-badge.svg\" alt=\"Open In Colab\"/></a>"
      ]
    },
    {
      "cell_type": "markdown",
      "source": [
        "# **Practice 14.10.2022. - Markdown**\n",
        "\n",
        "---\n",
        "\n",
        "I will also be using HackMD. [Link](https://hackmd.io/?nav=overview)    \n",
        "\n",
        "## Text decoration\n",
        "\n",
        "This word is **bold**.  \n",
        "This word is _italic_.  \n",
        "These words are **_bold & italic_**.    \n",
        "We must write this sentence \\*italic* and \\*\\*bold**.\n",
        "\n",
        "> This is a comment.  \n",
        "<font color = red>Some red text.</font>   \n",
        "\n",
        "## Inserting images  \n",
        "\n",
        "Two ways to insert an image:\n",
        "\n",
        "![Old FIDIT logo](https://media-exp1.licdn.com/dms/image/C4D0BAQGknJSvyhNAKw/company-logo_200_200/0/1646391178802?e=2147483647&v=beta&t=ew8ZqmVzIdWtnQ2AxPo9_p50iyVnJYuhyyHFOVwREno)  \n",
        "\n",
        "<img src = \"https://media-exp1.licdn.com/dms/image/C4D0BAQGknJSvyhNAKw/company-logo_200_200/0/1646391178802?e=2147483647&v=beta&t=ew8ZqmVzIdWtnQ2AxPo9_p50iyVnJYuhyyHFOVwREno\" title = \"FIDIT\" height = 40%>  \n",
        "\n",
        "## Writing or embedding code  \n",
        "  \n",
        "### C++  \n",
        "```cpp  \n",
        "for (int i = 0; i<10; i++)\n",
        "{\n",
        "  cout << \"Number: \" << i;\n",
        "}\n",
        "```"
      ],
      "metadata": {
        "id": "RBAeht3XlvNE"
      }
    },
    {
      "cell_type": "markdown",
      "source": [
        "# **Practice 14.10.2022. - R**\n",
        "\n"
      ],
      "metadata": {
        "id": "_LCTzJ5QaoC5"
      }
    },
    {
      "cell_type": "code",
      "execution_count": null,
      "metadata": {
        "id": "UW8vXFwbkC3r",
        "colab": {
          "base_uri": "https://localhost:8080/",
          "height": 34
        },
        "outputId": "3743b09e-18d5-4428-908d-c85b84499eca"
      },
      "outputs": [
        {
          "output_type": "display_data",
          "data": {
            "text/html": [
              "12"
            ],
            "text/markdown": "12",
            "text/latex": "12",
            "text/plain": [
              "[1] 12"
            ]
          },
          "metadata": {}
        }
      ],
      "source": [
        "# This is a code cell.\n",
        "# In this cell code can be written and executed.  \n",
        "c <- 12\n",
        "c"
      ]
    },
    {
      "cell_type": "markdown",
      "source": [
        "## Matrixes"
      ],
      "metadata": {
        "id": "DDzi4PbLcjfT"
      }
    },
    {
      "cell_type": "code",
      "source": [
        "first_matrix <- matrix(1:12)  \n",
        "\n",
        "second_matrix <- matrix(1:7, nrow=3, ncol = 4, byrow = T)\n",
        "second_matrix"
      ],
      "metadata": {
        "id": "aaOyE2a_ltSs",
        "colab": {
          "base_uri": "https://localhost:8080/",
          "height": 198
        },
        "outputId": "b9cf63d2-3e09-4f41-a64a-eaa4d0c77b8f"
      },
      "execution_count": null,
      "outputs": [
        {
          "output_type": "stream",
          "name": "stderr",
          "text": [
            "Warning message in matrix(1:7, nrow = 3, ncol = 4, byrow = T):\n",
            "“data length [7] is not a sub-multiple or multiple of the number of rows [3]”\n"
          ]
        },
        {
          "output_type": "display_data",
          "data": {
            "text/html": [
              "<table class=\"dataframe\">\n",
              "<caption>A matrix: 3 × 4 of type int</caption>\n",
              "<tbody>\n",
              "\t<tr><td>1</td><td>2</td><td>3</td><td>4</td></tr>\n",
              "\t<tr><td>5</td><td>6</td><td>7</td><td>1</td></tr>\n",
              "\t<tr><td>2</td><td>3</td><td>4</td><td>5</td></tr>\n",
              "</tbody>\n",
              "</table>\n"
            ],
            "text/markdown": "\nA matrix: 3 × 4 of type int\n\n| 1 | 2 | 3 | 4 |\n| 5 | 6 | 7 | 1 |\n| 2 | 3 | 4 | 5 |\n\n",
            "text/latex": "A matrix: 3 × 4 of type int\n\\begin{tabular}{llll}\n\t 1 & 2 & 3 & 4\\\\\n\t 5 & 6 & 7 & 1\\\\\n\t 2 & 3 & 4 & 5\\\\\n\\end{tabular}\n",
            "text/plain": [
              "     [,1] [,2] [,3] [,4]\n",
              "[1,] 1    2    3    4   \n",
              "[2,] 5    6    7    1   \n",
              "[3,] 2    3    4    5   "
            ]
          },
          "metadata": {}
        }
      ]
    },
    {
      "cell_type": "markdown",
      "source": [
        ">_byrow_: matrix content is filled by row (by default, matrix content is filled by column)."
      ],
      "metadata": {
        "id": "2ilV8vOZdDwd"
      }
    },
    {
      "cell_type": "code",
      "source": [
        "r1 <- c(1,2,3)\n",
        "r2 <- c(4,5,6)\n",
        "r3 <- c(7,8,9)\n",
        "matrica2 <- matrix(c(r1, r2, r3), ncol = 4, byrow = T)\n",
        "matrica2"
      ],
      "metadata": {
        "id": "hI-cSveTdajn",
        "colab": {
          "base_uri": "https://localhost:8080/",
          "height": 198
        },
        "outputId": "04f07e17-274d-49b1-b5a8-60163b6bfb38"
      },
      "execution_count": null,
      "outputs": [
        {
          "output_type": "stream",
          "name": "stderr",
          "text": [
            "Warning message in matrix(c(r1, r2, r3), ncol = 4, byrow = T):\n",
            "“data length [9] is not a sub-multiple or multiple of the number of columns [4]”\n"
          ]
        },
        {
          "output_type": "display_data",
          "data": {
            "text/html": [
              "<table class=\"dataframe\">\n",
              "<caption>A matrix: 3 × 4 of type dbl</caption>\n",
              "<tbody>\n",
              "\t<tr><td>1</td><td>2</td><td>3</td><td>4</td></tr>\n",
              "\t<tr><td>5</td><td>6</td><td>7</td><td>8</td></tr>\n",
              "\t<tr><td>9</td><td>1</td><td>2</td><td>3</td></tr>\n",
              "</tbody>\n",
              "</table>\n"
            ],
            "text/markdown": "\nA matrix: 3 × 4 of type dbl\n\n| 1 | 2 | 3 | 4 |\n| 5 | 6 | 7 | 8 |\n| 9 | 1 | 2 | 3 |\n\n",
            "text/latex": "A matrix: 3 × 4 of type dbl\n\\begin{tabular}{llll}\n\t 1 & 2 & 3 & 4\\\\\n\t 5 & 6 & 7 & 8\\\\\n\t 9 & 1 & 2 & 3\\\\\n\\end{tabular}\n",
            "text/plain": [
              "     [,1] [,2] [,3] [,4]\n",
              "[1,] 1    2    3    4   \n",
              "[2,] 5    6    7    8   \n",
              "[3,] 9    1    2    3   "
            ]
          },
          "metadata": {}
        }
      ]
    },
    {
      "cell_type": "code",
      "source": [
        "pon <- c(6, 15, 19)\n",
        "uto <- c(0, 6, 7)\n",
        "sri <- c(-1, 4, 4)\n",
        "cet <- c(-1, 2, 1)\n",
        "\n",
        "temperature <- matrix(c(pon, uto, sri, cet), nrow = 4, byrow = T)\n",
        "# printing the temperature variable:\n",
        "temperature"
      ],
      "metadata": {
        "id": "FE2Y4zJdexic",
        "colab": {
          "base_uri": "https://localhost:8080/",
          "height": 195
        },
        "outputId": "fcb1e5dc-5332-4d83-8ab4-e5b6886ad67a"
      },
      "execution_count": null,
      "outputs": [
        {
          "output_type": "display_data",
          "data": {
            "text/html": [
              "<table class=\"dataframe\">\n",
              "<caption>A matrix: 4 × 3 of type dbl</caption>\n",
              "<tbody>\n",
              "\t<tr><td> 6</td><td>15</td><td>19</td></tr>\n",
              "\t<tr><td> 0</td><td> 6</td><td> 7</td></tr>\n",
              "\t<tr><td>-1</td><td> 4</td><td> 4</td></tr>\n",
              "\t<tr><td>-1</td><td> 2</td><td> 1</td></tr>\n",
              "</tbody>\n",
              "</table>\n"
            ],
            "text/markdown": "\nA matrix: 4 × 3 of type dbl\n\n|  6 | 15 | 19 |\n|  0 |  6 |  7 |\n| -1 |  4 |  4 |\n| -1 |  2 |  1 |\n\n",
            "text/latex": "A matrix: 4 × 3 of type dbl\n\\begin{tabular}{lll}\n\t  6 & 15 & 19\\\\\n\t  0 &  6 &  7\\\\\n\t -1 &  4 &  4\\\\\n\t -1 &  2 &  1\\\\\n\\end{tabular}\n",
            "text/plain": [
              "     [,1] [,2] [,3]\n",
              "[1,]  6   15   19  \n",
              "[2,]  0    6    7  \n",
              "[3,] -1    4    4  \n",
              "[4,] -1    2    1  "
            ]
          },
          "metadata": {}
        }
      ]
    },
    {
      "cell_type": "markdown",
      "source": [
        "> _c_ is a vector!"
      ],
      "metadata": {
        "id": "75ETiuijfdXq"
      }
    },
    {
      "cell_type": "code",
      "source": [
        "temperature"
      ],
      "metadata": {
        "id": "Dsc6zNU5fwV6",
        "colab": {
          "base_uri": "https://localhost:8080/",
          "height": 195
        },
        "outputId": "6681486a-2e57-45cc-f526-cc1e6c28f0c8"
      },
      "execution_count": null,
      "outputs": [
        {
          "output_type": "display_data",
          "data": {
            "text/html": [
              "<table class=\"dataframe\">\n",
              "<caption>A matrix: 4 × 3 of type dbl</caption>\n",
              "<tbody>\n",
              "\t<tr><td> 6</td><td>15</td><td>19</td></tr>\n",
              "\t<tr><td> 0</td><td> 6</td><td> 7</td></tr>\n",
              "\t<tr><td>-1</td><td> 4</td><td> 4</td></tr>\n",
              "\t<tr><td>-1</td><td> 2</td><td> 1</td></tr>\n",
              "</tbody>\n",
              "</table>\n"
            ],
            "text/markdown": "\nA matrix: 4 × 3 of type dbl\n\n|  6 | 15 | 19 |\n|  0 |  6 |  7 |\n| -1 |  4 |  4 |\n| -1 |  2 |  1 |\n\n",
            "text/latex": "A matrix: 4 × 3 of type dbl\n\\begin{tabular}{lll}\n\t  6 & 15 & 19\\\\\n\t  0 &  6 &  7\\\\\n\t -1 &  4 &  4\\\\\n\t -1 &  2 &  1\\\\\n\\end{tabular}\n",
            "text/plain": [
              "     [,1] [,2] [,3]\n",
              "[1,]  6   15   19  \n",
              "[2,]  0    6    7  \n",
              "[3,] -1    4    4  \n",
              "[4,] -1    2    1  "
            ]
          },
          "metadata": {}
        }
      ]
    },
    {
      "cell_type": "markdown",
      "source": [
        "> Variables from all cells can be used in any cell."
      ],
      "metadata": {
        "id": "Ef5zTR5cfzqS"
      }
    },
    {
      "cell_type": "markdown",
      "source": [
        "## Adding row and column names to a matrix"
      ],
      "metadata": {
        "id": "3axJVkqjg8Q3"
      }
    },
    {
      "cell_type": "code",
      "source": [
        "column_names <- c('Morning', 'Afternoon', 'Evening')\n",
        "row_names <- c('Mon', 'Tue', 'Wed', 'Thu')\n",
        "\n",
        "rownames(temperature) <- row_names\n",
        "colnames(temperature) <- column_names\n",
        "temperature"
      ],
      "metadata": {
        "id": "OvyFPNm4gDn7",
        "colab": {
          "base_uri": "https://localhost:8080/",
          "height": 192
        },
        "outputId": "4cceb023-9ce5-4ff2-d7cd-aa96a61d52a1"
      },
      "execution_count": null,
      "outputs": [
        {
          "output_type": "display_data",
          "data": {
            "text/html": [
              "<table class=\"dataframe\">\n",
              "<caption>A matrix: 4 × 3 of type dbl</caption>\n",
              "<thead>\n",
              "\t<tr><th></th><th scope=col>Morning</th><th scope=col>Afternoon</th><th scope=col>Evening</th></tr>\n",
              "</thead>\n",
              "<tbody>\n",
              "\t<tr><th scope=row>Mon</th><td> 6</td><td>15</td><td>19</td></tr>\n",
              "\t<tr><th scope=row>Tue</th><td> 0</td><td> 6</td><td> 7</td></tr>\n",
              "\t<tr><th scope=row>Wed</th><td>-1</td><td> 4</td><td> 4</td></tr>\n",
              "\t<tr><th scope=row>Thu</th><td>-1</td><td> 2</td><td> 1</td></tr>\n",
              "</tbody>\n",
              "</table>\n"
            ],
            "text/markdown": "\nA matrix: 4 × 3 of type dbl\n\n| <!--/--> | Morning | Afternoon | Evening |\n|---|---|---|---|\n| Mon |  6 | 15 | 19 |\n| Tue |  0 |  6 |  7 |\n| Wed | -1 |  4 |  4 |\n| Thu | -1 |  2 |  1 |\n\n",
            "text/latex": "A matrix: 4 × 3 of type dbl\n\\begin{tabular}{r|lll}\n  & Morning & Afternoon & Evening\\\\\n\\hline\n\tMon &  6 & 15 & 19\\\\\n\tTue &  0 &  6 &  7\\\\\n\tWed & -1 &  4 &  4\\\\\n\tThu & -1 &  2 &  1\\\\\n\\end{tabular}\n",
            "text/plain": [
              "    Morning Afternoon Evening\n",
              "Mon  6      15        19     \n",
              "Tue  0       6         7     \n",
              "Wed -1       4         4     \n",
              "Thu -1       2         1     "
            ]
          },
          "metadata": {}
        }
      ]
    },
    {
      "cell_type": "markdown",
      "source": [
        "## Adding matrix rows and columns"
      ],
      "metadata": {
        "id": "3bmLt0eyh5Kq"
      }
    },
    {
      "cell_type": "code",
      "source": [
        "parni <- matrix(seq(2, 18, 2), ncol = 3, byrow = T)\n",
        "parni\n",
        "rowSums(parni)\n",
        "colSums(parni)\n",
        "\n",
        "matrix(rowSums(parni))\n",
        "matrix(colSums(parni), 1:3)"
      ],
      "metadata": {
        "id": "3RgAwnN0hGg3",
        "colab": {
          "base_uri": "https://localhost:8080/",
          "height": 428
        },
        "outputId": "6cc29993-47ad-40b1-9ced-3c89a73d0f6b"
      },
      "execution_count": null,
      "outputs": [
        {
          "output_type": "display_data",
          "data": {
            "text/html": [
              "<table class=\"dataframe\">\n",
              "<caption>A matrix: 3 × 3 of type dbl</caption>\n",
              "<tbody>\n",
              "\t<tr><td> 2</td><td> 4</td><td> 6</td></tr>\n",
              "\t<tr><td> 8</td><td>10</td><td>12</td></tr>\n",
              "\t<tr><td>14</td><td>16</td><td>18</td></tr>\n",
              "</tbody>\n",
              "</table>\n"
            ],
            "text/markdown": "\nA matrix: 3 × 3 of type dbl\n\n|  2 |  4 |  6 |\n|  8 | 10 | 12 |\n| 14 | 16 | 18 |\n\n",
            "text/latex": "A matrix: 3 × 3 of type dbl\n\\begin{tabular}{lll}\n\t  2 &  4 &  6\\\\\n\t  8 & 10 & 12\\\\\n\t 14 & 16 & 18\\\\\n\\end{tabular}\n",
            "text/plain": [
              "     [,1] [,2] [,3]\n",
              "[1,]  2    4    6  \n",
              "[2,]  8   10   12  \n",
              "[3,] 14   16   18  "
            ]
          },
          "metadata": {}
        },
        {
          "output_type": "display_data",
          "data": {
            "text/html": [
              "<style>\n",
              ".list-inline {list-style: none; margin:0; padding: 0}\n",
              ".list-inline>li {display: inline-block}\n",
              ".list-inline>li:not(:last-child)::after {content: \"\\00b7\"; padding: 0 .5ex}\n",
              "</style>\n",
              "<ol class=list-inline><li>12</li><li>30</li><li>48</li></ol>\n"
            ],
            "text/markdown": "1. 12\n2. 30\n3. 48\n\n\n",
            "text/latex": "\\begin{enumerate*}\n\\item 12\n\\item 30\n\\item 48\n\\end{enumerate*}\n",
            "text/plain": [
              "[1] 12 30 48"
            ]
          },
          "metadata": {}
        },
        {
          "output_type": "display_data",
          "data": {
            "text/html": [
              "<style>\n",
              ".list-inline {list-style: none; margin:0; padding: 0}\n",
              ".list-inline>li {display: inline-block}\n",
              ".list-inline>li:not(:last-child)::after {content: \"\\00b7\"; padding: 0 .5ex}\n",
              "</style>\n",
              "<ol class=list-inline><li>24</li><li>30</li><li>36</li></ol>\n"
            ],
            "text/markdown": "1. 24\n2. 30\n3. 36\n\n\n",
            "text/latex": "\\begin{enumerate*}\n\\item 24\n\\item 30\n\\item 36\n\\end{enumerate*}\n",
            "text/plain": [
              "[1] 24 30 36"
            ]
          },
          "metadata": {}
        },
        {
          "output_type": "display_data",
          "data": {
            "text/html": [
              "<table class=\"dataframe\">\n",
              "<caption>A matrix: 3 × 1 of type dbl</caption>\n",
              "<tbody>\n",
              "\t<tr><td>12</td></tr>\n",
              "\t<tr><td>30</td></tr>\n",
              "\t<tr><td>48</td></tr>\n",
              "</tbody>\n",
              "</table>\n"
            ],
            "text/markdown": "\nA matrix: 3 × 1 of type dbl\n\n| 12 |\n| 30 |\n| 48 |\n\n",
            "text/latex": "A matrix: 3 × 1 of type dbl\n\\begin{tabular}{l}\n\t 12\\\\\n\t 30\\\\\n\t 48\\\\\n\\end{tabular}\n",
            "text/plain": [
              "     [,1]\n",
              "[1,] 12  \n",
              "[2,] 30  \n",
              "[3,] 48  "
            ]
          },
          "metadata": {}
        },
        {
          "output_type": "display_data",
          "data": {
            "text/html": [
              "<table class=\"dataframe\">\n",
              "<caption>A matrix: 1 × 3 of type dbl</caption>\n",
              "<tbody>\n",
              "\t<tr><td>24</td><td>30</td><td>36</td></tr>\n",
              "</tbody>\n",
              "</table>\n"
            ],
            "text/markdown": "\nA matrix: 1 × 3 of type dbl\n\n| 24 | 30 | 36 |\n\n",
            "text/latex": "A matrix: 1 × 3 of type dbl\n\\begin{tabular}{lll}\n\t 24 & 30 & 36\\\\\n\\end{tabular}\n",
            "text/plain": [
              "     [,1] [,2] [,3]\n",
              "[1,] 24   30   36  "
            ]
          },
          "metadata": {}
        }
      ]
    },
    {
      "cell_type": "markdown",
      "source": [
        "## Binding matrixes"
      ],
      "metadata": {
        "id": "eJqDrcVziypt"
      }
    },
    {
      "cell_type": "code",
      "source": [
        "Fri <- c(4, 12, 18)\n",
        "#Binding values from _pet_ matrix to _temperature_ matrix\n",
        "temperature <- rbind(temperature, Fri)\n",
        "Sat <- c(2, 4, 6)\n",
        "temperature <- rbind(temperature, Sat)\n",
        "Sun <- c(1, 2, 3)\n",
        "temperature <- rbind(temperature, Sun)\n",
        "temperature"
      ],
      "metadata": {
        "id": "Yfle26d0i22e",
        "colab": {
          "base_uri": "https://localhost:8080/",
          "height": 286
        },
        "outputId": "6a1a9e73-c528-4219-dd18-607a1ec37fb4"
      },
      "execution_count": null,
      "outputs": [
        {
          "output_type": "display_data",
          "data": {
            "text/html": [
              "<table class=\"dataframe\">\n",
              "<caption>A matrix: 7 × 3 of type dbl</caption>\n",
              "<thead>\n",
              "\t<tr><th></th><th scope=col>Morning</th><th scope=col>Afternoon</th><th scope=col>Evening</th></tr>\n",
              "</thead>\n",
              "<tbody>\n",
              "\t<tr><th scope=row>Mon</th><td> 6</td><td>15</td><td>19</td></tr>\n",
              "\t<tr><th scope=row>Tue</th><td> 0</td><td> 6</td><td> 7</td></tr>\n",
              "\t<tr><th scope=row>Wed</th><td>-1</td><td> 4</td><td> 4</td></tr>\n",
              "\t<tr><th scope=row>Thu</th><td>-1</td><td> 2</td><td> 1</td></tr>\n",
              "\t<tr><th scope=row>Fri</th><td> 4</td><td>12</td><td>18</td></tr>\n",
              "\t<tr><th scope=row>Sat</th><td> 2</td><td> 4</td><td> 6</td></tr>\n",
              "\t<tr><th scope=row>Sun</th><td> 1</td><td> 2</td><td> 3</td></tr>\n",
              "</tbody>\n",
              "</table>\n"
            ],
            "text/markdown": "\nA matrix: 7 × 3 of type dbl\n\n| <!--/--> | Morning | Afternoon | Evening |\n|---|---|---|---|\n| Mon |  6 | 15 | 19 |\n| Tue |  0 |  6 |  7 |\n| Wed | -1 |  4 |  4 |\n| Thu | -1 |  2 |  1 |\n| Fri |  4 | 12 | 18 |\n| Sat |  2 |  4 |  6 |\n| Sun |  1 |  2 |  3 |\n\n",
            "text/latex": "A matrix: 7 × 3 of type dbl\n\\begin{tabular}{r|lll}\n  & Morning & Afternoon & Evening\\\\\n\\hline\n\tMon &  6 & 15 & 19\\\\\n\tTue &  0 &  6 &  7\\\\\n\tWed & -1 &  4 &  4\\\\\n\tThu & -1 &  2 &  1\\\\\n\tFri &  4 & 12 & 18\\\\\n\tSat &  2 &  4 &  6\\\\\n\tSun &  1 &  2 &  3\\\\\n\\end{tabular}\n",
            "text/plain": [
              "    Morning Afternoon Evening\n",
              "Mon  6      15        19     \n",
              "Tue  0       6         7     \n",
              "Wed -1       4         4     \n",
              "Thu -1       2         1     \n",
              "Fri  4      12        18     \n",
              "Sat  2       4         6     \n",
              "Sun  1       2         3     "
            ]
          },
          "metadata": {}
        }
      ]
    },
    {
      "cell_type": "code",
      "source": [
        "Night <- c(0,0,0)\n",
        "temperature <- cbind(temperature, Night)\n",
        "Sunrise <- c(2)\n",
        "temperature <- cbind(temperature, Sunrise)\n",
        "temperature"
      ],
      "metadata": {
        "id": "ezrcwbKwmWo3",
        "colab": {
          "base_uri": "https://localhost:8080/",
          "height": 321
        },
        "outputId": "32afdb40-9d26-4865-ef47-89628088ab4a"
      },
      "execution_count": null,
      "outputs": [
        {
          "output_type": "stream",
          "name": "stderr",
          "text": [
            "Warning message in cbind(temperature, Night):\n",
            "“number of rows of result is not a multiple of vector length (arg 2)”\n"
          ]
        },
        {
          "output_type": "display_data",
          "data": {
            "text/html": [
              "<table class=\"dataframe\">\n",
              "<caption>A matrix: 7 × 5 of type dbl</caption>\n",
              "<thead>\n",
              "\t<tr><th></th><th scope=col>Morning</th><th scope=col>Afternoon</th><th scope=col>Evening</th><th scope=col>Night</th><th scope=col>Sunrise</th></tr>\n",
              "</thead>\n",
              "<tbody>\n",
              "\t<tr><th scope=row>Mon</th><td> 6</td><td>15</td><td>19</td><td>0</td><td>2</td></tr>\n",
              "\t<tr><th scope=row>Tue</th><td> 0</td><td> 6</td><td> 7</td><td>0</td><td>2</td></tr>\n",
              "\t<tr><th scope=row>Wed</th><td>-1</td><td> 4</td><td> 4</td><td>0</td><td>2</td></tr>\n",
              "\t<tr><th scope=row>Thu</th><td>-1</td><td> 2</td><td> 1</td><td>0</td><td>2</td></tr>\n",
              "\t<tr><th scope=row>Fri</th><td> 4</td><td>12</td><td>18</td><td>0</td><td>2</td></tr>\n",
              "\t<tr><th scope=row>Sat</th><td> 2</td><td> 4</td><td> 6</td><td>0</td><td>2</td></tr>\n",
              "\t<tr><th scope=row>Sun</th><td> 1</td><td> 2</td><td> 3</td><td>0</td><td>2</td></tr>\n",
              "</tbody>\n",
              "</table>\n"
            ],
            "text/markdown": "\nA matrix: 7 × 5 of type dbl\n\n| <!--/--> | Morning | Afternoon | Evening | Night | Sunrise |\n|---|---|---|---|---|---|\n| Mon |  6 | 15 | 19 | 0 | 2 |\n| Tue |  0 |  6 |  7 | 0 | 2 |\n| Wed | -1 |  4 |  4 | 0 | 2 |\n| Thu | -1 |  2 |  1 | 0 | 2 |\n| Fri |  4 | 12 | 18 | 0 | 2 |\n| Sat |  2 |  4 |  6 | 0 | 2 |\n| Sun |  1 |  2 |  3 | 0 | 2 |\n\n",
            "text/latex": "A matrix: 7 × 5 of type dbl\n\\begin{tabular}{r|lllll}\n  & Morning & Afternoon & Evening & Night & Sunrise\\\\\n\\hline\n\tMon &  6 & 15 & 19 & 0 & 2\\\\\n\tTue &  0 &  6 &  7 & 0 & 2\\\\\n\tWed & -1 &  4 &  4 & 0 & 2\\\\\n\tThu & -1 &  2 &  1 & 0 & 2\\\\\n\tFri &  4 & 12 & 18 & 0 & 2\\\\\n\tSat &  2 &  4 &  6 & 0 & 2\\\\\n\tSun &  1 &  2 &  3 & 0 & 2\\\\\n\\end{tabular}\n",
            "text/plain": [
              "    Morning Afternoon Evening Night Sunrise\n",
              "Mon  6      15        19      0     2      \n",
              "Tue  0       6         7      0     2      \n",
              "Wed -1       4         4      0     2      \n",
              "Thu -1       2         1      0     2      \n",
              "Fri  4      12        18      0     2      \n",
              "Sat  2       4         6      0     2      \n",
              "Sun  1       2         3      0     2      "
            ]
          },
          "metadata": {}
        }
      ]
    },
    {
      "cell_type": "code",
      "source": [
        "Sunrise2 <- c(1,2)\n",
        "temperature <- cbind(temperature, Sunrise2)\n",
        "temperature"
      ],
      "metadata": {
        "id": "FRIA6WtMnBEE",
        "colab": {
          "base_uri": "https://localhost:8080/",
          "height": 321
        },
        "outputId": "ef2ce565-4ab2-4e45-af0a-147bb168eef5"
      },
      "execution_count": null,
      "outputs": [
        {
          "output_type": "stream",
          "name": "stderr",
          "text": [
            "Warning message in cbind(temperature, Sunrise2):\n",
            "“number of rows of result is not a multiple of vector length (arg 2)”\n"
          ]
        },
        {
          "output_type": "display_data",
          "data": {
            "text/html": [
              "<table class=\"dataframe\">\n",
              "<caption>A matrix: 7 × 6 of type dbl</caption>\n",
              "<thead>\n",
              "\t<tr><th></th><th scope=col>Morning</th><th scope=col>Afternoon</th><th scope=col>Evening</th><th scope=col>Night</th><th scope=col>Sunrise</th><th scope=col>Sunrise2</th></tr>\n",
              "</thead>\n",
              "<tbody>\n",
              "\t<tr><th scope=row>Mon</th><td> 6</td><td>15</td><td>19</td><td>0</td><td>2</td><td>1</td></tr>\n",
              "\t<tr><th scope=row>Tue</th><td> 0</td><td> 6</td><td> 7</td><td>0</td><td>2</td><td>2</td></tr>\n",
              "\t<tr><th scope=row>Wed</th><td>-1</td><td> 4</td><td> 4</td><td>0</td><td>2</td><td>1</td></tr>\n",
              "\t<tr><th scope=row>Thu</th><td>-1</td><td> 2</td><td> 1</td><td>0</td><td>2</td><td>2</td></tr>\n",
              "\t<tr><th scope=row>Fri</th><td> 4</td><td>12</td><td>18</td><td>0</td><td>2</td><td>1</td></tr>\n",
              "\t<tr><th scope=row>Sat</th><td> 2</td><td> 4</td><td> 6</td><td>0</td><td>2</td><td>2</td></tr>\n",
              "\t<tr><th scope=row>Sun</th><td> 1</td><td> 2</td><td> 3</td><td>0</td><td>2</td><td>1</td></tr>\n",
              "</tbody>\n",
              "</table>\n"
            ],
            "text/markdown": "\nA matrix: 7 × 6 of type dbl\n\n| <!--/--> | Morning | Afternoon | Evening | Night | Sunrise | Sunrise2 |\n|---|---|---|---|---|---|---|\n| Mon |  6 | 15 | 19 | 0 | 2 | 1 |\n| Tue |  0 |  6 |  7 | 0 | 2 | 2 |\n| Wed | -1 |  4 |  4 | 0 | 2 | 1 |\n| Thu | -1 |  2 |  1 | 0 | 2 | 2 |\n| Fri |  4 | 12 | 18 | 0 | 2 | 1 |\n| Sat |  2 |  4 |  6 | 0 | 2 | 2 |\n| Sun |  1 |  2 |  3 | 0 | 2 | 1 |\n\n",
            "text/latex": "A matrix: 7 × 6 of type dbl\n\\begin{tabular}{r|llllll}\n  & Morning & Afternoon & Evening & Night & Sunrise & Sunrise2\\\\\n\\hline\n\tMon &  6 & 15 & 19 & 0 & 2 & 1\\\\\n\tTue &  0 &  6 &  7 & 0 & 2 & 2\\\\\n\tWed & -1 &  4 &  4 & 0 & 2 & 1\\\\\n\tThu & -1 &  2 &  1 & 0 & 2 & 2\\\\\n\tFri &  4 & 12 & 18 & 0 & 2 & 1\\\\\n\tSat &  2 &  4 &  6 & 0 & 2 & 2\\\\\n\tSun &  1 &  2 &  3 & 0 & 2 & 1\\\\\n\\end{tabular}\n",
            "text/plain": [
              "    Morning Afternoon Evening Night Sunrise Sunrise2\n",
              "Mon  6      15        19      0     2       1       \n",
              "Tue  0       6         7      0     2       2       \n",
              "Wed -1       4         4      0     2       1       \n",
              "Thu -1       2         1      0     2       2       \n",
              "Fri  4      12        18      0     2       1       \n",
              "Sat  2       4         6      0     2       2       \n",
              "Sun  1       2         3      0     2       1       "
            ]
          },
          "metadata": {}
        }
      ]
    },
    {
      "cell_type": "markdown",
      "source": [
        "> Some matrix columns and rows are repeated. This is beacuse a cell has been executed more than once."
      ],
      "metadata": {
        "id": "-JW7qi5RnM31"
      }
    },
    {
      "cell_type": "code",
      "source": [
        "# Average temperature value for Afternoon column.\n",
        "mean(temperature[,'Afternoon'])\n",
        "\n"
      ],
      "metadata": {
        "id": "jVC_Q_yQnYKX",
        "colab": {
          "base_uri": "https://localhost:8080/",
          "height": 34
        },
        "outputId": "2bef88d3-a95b-45ec-98db-312680cd1e9a"
      },
      "execution_count": null,
      "outputs": [
        {
          "output_type": "display_data",
          "data": {
            "text/html": [
              "6.42857142857143"
            ],
            "text/markdown": "6.42857142857143",
            "text/latex": "6.42857142857143",
            "text/plain": [
              "[1] 6.428571"
            ]
          },
          "metadata": {}
        }
      ]
    },
    {
      "cell_type": "markdown",
      "source": [
        "## Task 1"
      ],
      "metadata": {
        "id": "wRZlTYXirRRb"
      }
    },
    {
      "cell_type": "code",
      "source": [
        "#Printing specific row values\n",
        "temperature[c('Sat', 'Sun'),]\n",
        "# or\n",
        "temperature[6:7,] \n",
        "\n",
        "#Average temperature during workdays in the morning\n",
        "mean(temperature[1:5,], 1)\n",
        "#or\n",
        "mean(temperature[1:5, c('Morning')])\n",
        "\n"
      ],
      "metadata": {
        "colab": {
          "base_uri": "https://localhost:8080/",
          "height": 277
        },
        "id": "iUauyaVrore0",
        "outputId": "b146d098-0b32-41c1-95f3-28206f013a74"
      },
      "execution_count": null,
      "outputs": [
        {
          "output_type": "display_data",
          "data": {
            "text/html": [
              "<table class=\"dataframe\">\n",
              "<caption>A matrix: 2 × 6 of type dbl</caption>\n",
              "<thead>\n",
              "\t<tr><th></th><th scope=col>Morning</th><th scope=col>Afternoon</th><th scope=col>Evening</th><th scope=col>Night</th><th scope=col>Sunrise</th><th scope=col>Sunrise2</th></tr>\n",
              "</thead>\n",
              "<tbody>\n",
              "\t<tr><th scope=row>Sat</th><td>2</td><td>4</td><td>6</td><td>0</td><td>2</td><td>2</td></tr>\n",
              "\t<tr><th scope=row>Sun</th><td>1</td><td>2</td><td>3</td><td>0</td><td>2</td><td>1</td></tr>\n",
              "</tbody>\n",
              "</table>\n"
            ],
            "text/markdown": "\nA matrix: 2 × 6 of type dbl\n\n| <!--/--> | Morning | Afternoon | Evening | Night | Sunrise | Sunrise2 |\n|---|---|---|---|---|---|---|\n| Sat | 2 | 4 | 6 | 0 | 2 | 2 |\n| Sun | 1 | 2 | 3 | 0 | 2 | 1 |\n\n",
            "text/latex": "A matrix: 2 × 6 of type dbl\n\\begin{tabular}{r|llllll}\n  & Morning & Afternoon & Evening & Night & Sunrise & Sunrise2\\\\\n\\hline\n\tSat & 2 & 4 & 6 & 0 & 2 & 2\\\\\n\tSun & 1 & 2 & 3 & 0 & 2 & 1\\\\\n\\end{tabular}\n",
            "text/plain": [
              "    Morning Afternoon Evening Night Sunrise Sunrise2\n",
              "Sat 2       4         6       0     2       2       \n",
              "Sun 1       2         3       0     2       1       "
            ]
          },
          "metadata": {}
        },
        {
          "output_type": "display_data",
          "data": {
            "text/html": [
              "<table class=\"dataframe\">\n",
              "<caption>A matrix: 2 × 6 of type dbl</caption>\n",
              "<thead>\n",
              "\t<tr><th></th><th scope=col>Morning</th><th scope=col>Afternoon</th><th scope=col>Evening</th><th scope=col>Night</th><th scope=col>Sunrise</th><th scope=col>Sunrise2</th></tr>\n",
              "</thead>\n",
              "<tbody>\n",
              "\t<tr><th scope=row>Sat</th><td>2</td><td>4</td><td>6</td><td>0</td><td>2</td><td>2</td></tr>\n",
              "\t<tr><th scope=row>Sun</th><td>1</td><td>2</td><td>3</td><td>0</td><td>2</td><td>1</td></tr>\n",
              "</tbody>\n",
              "</table>\n"
            ],
            "text/markdown": "\nA matrix: 2 × 6 of type dbl\n\n| <!--/--> | Morning | Afternoon | Evening | Night | Sunrise | Sunrise2 |\n|---|---|---|---|---|---|---|\n| Sat | 2 | 4 | 6 | 0 | 2 | 2 |\n| Sun | 1 | 2 | 3 | 0 | 2 | 1 |\n\n",
            "text/latex": "A matrix: 2 × 6 of type dbl\n\\begin{tabular}{r|llllll}\n  & Morning & Afternoon & Evening & Night & Sunrise & Sunrise2\\\\\n\\hline\n\tSat & 2 & 4 & 6 & 0 & 2 & 2\\\\\n\tSun & 1 & 2 & 3 & 0 & 2 & 1\\\\\n\\end{tabular}\n",
            "text/plain": [
              "    Morning Afternoon Evening Night Sunrise Sunrise2\n",
              "Sat 2       4         6       0     2       2       \n",
              "Sun 1       2         3       0     2       1       "
            ]
          },
          "metadata": {}
        },
        {
          "output_type": "display_data",
          "data": {
            "text/html": [
              "2"
            ],
            "text/markdown": "2",
            "text/latex": "2",
            "text/plain": [
              "[1] 2"
            ]
          },
          "metadata": {}
        },
        {
          "output_type": "display_data",
          "data": {
            "text/html": [
              "1.6"
            ],
            "text/markdown": "1.6",
            "text/latex": "1.6",
            "text/plain": [
              "[1] 1.6"
            ]
          },
          "metadata": {}
        }
      ]
    },
    {
      "cell_type": "markdown",
      "source": [
        "# **Practice 28.10.2022 - Logistical Regression**"
      ],
      "metadata": {
        "id": "B0mEXf9irriI"
      }
    },
    {
      "cell_type": "code",
      "source": [
        "# Installing a package with dummy data:\n",
        "mtcars\n",
        "#install.packages ('dplyr')\n",
        "library('dplyr')"
      ],
      "metadata": {
        "id": "5Jokg4uHrzp5"
      },
      "execution_count": null,
      "outputs": []
    },
    {
      "cell_type": "code",
      "source": [
        "summary(mtcars)"
      ],
      "metadata": {
        "colab": {
          "base_uri": "https://localhost:8080/",
          "height": 392
        },
        "id": "sf1juFKdtxaE",
        "outputId": "475a8307-074d-423e-bd06-85622a561109"
      },
      "execution_count": null,
      "outputs": [
        {
          "output_type": "display_data",
          "data": {
            "text/plain": [
              "      mpg             cyl             disp             hp       \n",
              " Min.   :10.40   Min.   :4.000   Min.   : 71.1   Min.   : 52.0  \n",
              " 1st Qu.:15.43   1st Qu.:4.000   1st Qu.:120.8   1st Qu.: 96.5  \n",
              " Median :19.20   Median :6.000   Median :196.3   Median :123.0  \n",
              " Mean   :20.09   Mean   :6.188   Mean   :230.7   Mean   :146.7  \n",
              " 3rd Qu.:22.80   3rd Qu.:8.000   3rd Qu.:326.0   3rd Qu.:180.0  \n",
              " Max.   :33.90   Max.   :8.000   Max.   :472.0   Max.   :335.0  \n",
              "      drat             wt             qsec             vs        \n",
              " Min.   :2.760   Min.   :1.513   Min.   :14.50   Min.   :0.0000  \n",
              " 1st Qu.:3.080   1st Qu.:2.581   1st Qu.:16.89   1st Qu.:0.0000  \n",
              " Median :3.695   Median :3.325   Median :17.71   Median :0.0000  \n",
              " Mean   :3.597   Mean   :3.217   Mean   :17.85   Mean   :0.4375  \n",
              " 3rd Qu.:3.920   3rd Qu.:3.610   3rd Qu.:18.90   3rd Qu.:1.0000  \n",
              " Max.   :4.930   Max.   :5.424   Max.   :22.90   Max.   :1.0000  \n",
              "       am              gear            carb      \n",
              " Min.   :0.0000   Min.   :3.000   Min.   :1.000  \n",
              " 1st Qu.:0.0000   1st Qu.:3.000   1st Qu.:2.000  \n",
              " Median :0.0000   Median :4.000   Median :2.000  \n",
              " Mean   :0.4062   Mean   :3.688   Mean   :2.812  \n",
              " 3rd Qu.:1.0000   3rd Qu.:4.000   3rd Qu.:4.000  \n",
              " Max.   :1.0000   Max.   :5.000   Max.   :8.000  "
            ]
          },
          "metadata": {}
        }
      ]
    },
    {
      "cell_type": "code",
      "source": [
        "# Generating 20 random numbers from 1 - 50:\n",
        "sample(c(1:50), 7, replace = T)"
      ],
      "metadata": {
        "colab": {
          "base_uri": "https://localhost:8080/",
          "height": 34
        },
        "id": "Sbl85ZNdt1Uw",
        "outputId": "b8344ea0-4db6-4f22-e080-e63a9094b4df"
      },
      "execution_count": null,
      "outputs": [
        {
          "output_type": "display_data",
          "data": {
            "text/html": [
              "<style>\n",
              ".list-inline {list-style: none; margin:0; padding: 0}\n",
              ".list-inline>li {display: inline-block}\n",
              ".list-inline>li:not(:last-child)::after {content: \"\\00b7\"; padding: 0 .5ex}\n",
              "</style>\n",
              "<ol class=list-inline><li>6</li><li>8</li><li>37</li><li>13</li><li>28</li><li>45</li><li>29</li></ol>\n"
            ],
            "text/markdown": "1. 6\n2. 8\n3. 37\n4. 13\n5. 28\n6. 45\n7. 29\n\n\n",
            "text/latex": "\\begin{enumerate*}\n\\item 6\n\\item 8\n\\item 37\n\\item 13\n\\item 28\n\\item 45\n\\item 29\n\\end{enumerate*}\n",
            "text/plain": [
              "[1]  6  8 37 13 28 45 29"
            ]
          },
          "metadata": {}
        }
      ]
    },
    {
      "cell_type": "code",
      "source": [
        "# 80% of rows\n",
        "n <- round(0.8 * nrow(mtcars))\n",
        "n\n",
        "\n",
        "\n",
        "indeksi <- sample(c(1:nrow(mtcars)), n)\n",
        "#indeksi\n",
        "\n",
        "#mtcars[indeksi,]\n",
        "#mtcars[-1]\n",
        "# Printing mtcars without 1st, 5th & 28th row:\n",
        "#mtcars[-c(1,5,28)]\n",
        "set.seed(28)\n",
        "skup_tren <- mtcars[indeksi, ]\n",
        "skup_test <- mtcars[-indeksi,]\n",
        "#\n",
        "skup_test"
      ],
      "metadata": {
        "colab": {
          "base_uri": "https://localhost:8080/",
          "height": 304
        },
        "id": "kMZQ3cIiw2st",
        "outputId": "46b0b4de-ac33-4801-d4cf-adf213dad055"
      },
      "execution_count": null,
      "outputs": [
        {
          "output_type": "display_data",
          "data": {
            "text/html": [
              "26"
            ],
            "text/markdown": "26",
            "text/latex": "26",
            "text/plain": [
              "[1] 26"
            ]
          },
          "metadata": {}
        },
        {
          "output_type": "display_data",
          "data": {
            "text/html": [
              "<table class=\"dataframe\">\n",
              "<caption>A data.frame: 6 × 11</caption>\n",
              "<thead>\n",
              "\t<tr><th></th><th scope=col>mpg</th><th scope=col>cyl</th><th scope=col>disp</th><th scope=col>hp</th><th scope=col>drat</th><th scope=col>wt</th><th scope=col>qsec</th><th scope=col>vs</th><th scope=col>am</th><th scope=col>gear</th><th scope=col>carb</th></tr>\n",
              "\t<tr><th></th><th scope=col>&lt;dbl&gt;</th><th scope=col>&lt;dbl&gt;</th><th scope=col>&lt;dbl&gt;</th><th scope=col>&lt;dbl&gt;</th><th scope=col>&lt;dbl&gt;</th><th scope=col>&lt;dbl&gt;</th><th scope=col>&lt;dbl&gt;</th><th scope=col>&lt;dbl&gt;</th><th scope=col>&lt;dbl&gt;</th><th scope=col>&lt;dbl&gt;</th><th scope=col>&lt;dbl&gt;</th></tr>\n",
              "</thead>\n",
              "<tbody>\n",
              "\t<tr><th scope=row>Hornet 4 Drive</th><td>21.4</td><td>6</td><td>258.0</td><td>110</td><td>3.08</td><td>3.215</td><td>19.44</td><td>1</td><td>0</td><td>3</td><td>1</td></tr>\n",
              "\t<tr><th scope=row>Merc 280</th><td>19.2</td><td>6</td><td>167.6</td><td>123</td><td>3.92</td><td>3.440</td><td>18.30</td><td>1</td><td>0</td><td>4</td><td>4</td></tr>\n",
              "\t<tr><th scope=row>Merc 450SL</th><td>17.3</td><td>8</td><td>275.8</td><td>180</td><td>3.07</td><td>3.730</td><td>17.60</td><td>0</td><td>0</td><td>3</td><td>3</td></tr>\n",
              "\t<tr><th scope=row>Cadillac Fleetwood</th><td>10.4</td><td>8</td><td>472.0</td><td>205</td><td>2.93</td><td>5.250</td><td>17.98</td><td>0</td><td>0</td><td>3</td><td>4</td></tr>\n",
              "\t<tr><th scope=row>Toyota Corona</th><td>21.5</td><td>4</td><td>120.1</td><td> 97</td><td>3.70</td><td>2.465</td><td>20.01</td><td>1</td><td>0</td><td>3</td><td>1</td></tr>\n",
              "\t<tr><th scope=row>Fiat X1-9</th><td>27.3</td><td>4</td><td> 79.0</td><td> 66</td><td>4.08</td><td>1.935</td><td>18.90</td><td>1</td><td>1</td><td>4</td><td>1</td></tr>\n",
              "</tbody>\n",
              "</table>\n"
            ],
            "text/markdown": "\nA data.frame: 6 × 11\n\n| <!--/--> | mpg &lt;dbl&gt; | cyl &lt;dbl&gt; | disp &lt;dbl&gt; | hp &lt;dbl&gt; | drat &lt;dbl&gt; | wt &lt;dbl&gt; | qsec &lt;dbl&gt; | vs &lt;dbl&gt; | am &lt;dbl&gt; | gear &lt;dbl&gt; | carb &lt;dbl&gt; |\n|---|---|---|---|---|---|---|---|---|---|---|---|\n| Hornet 4 Drive | 21.4 | 6 | 258.0 | 110 | 3.08 | 3.215 | 19.44 | 1 | 0 | 3 | 1 |\n| Merc 280 | 19.2 | 6 | 167.6 | 123 | 3.92 | 3.440 | 18.30 | 1 | 0 | 4 | 4 |\n| Merc 450SL | 17.3 | 8 | 275.8 | 180 | 3.07 | 3.730 | 17.60 | 0 | 0 | 3 | 3 |\n| Cadillac Fleetwood | 10.4 | 8 | 472.0 | 205 | 2.93 | 5.250 | 17.98 | 0 | 0 | 3 | 4 |\n| Toyota Corona | 21.5 | 4 | 120.1 |  97 | 3.70 | 2.465 | 20.01 | 1 | 0 | 3 | 1 |\n| Fiat X1-9 | 27.3 | 4 |  79.0 |  66 | 4.08 | 1.935 | 18.90 | 1 | 1 | 4 | 1 |\n\n",
            "text/latex": "A data.frame: 6 × 11\n\\begin{tabular}{r|lllllllllll}\n  & mpg & cyl & disp & hp & drat & wt & qsec & vs & am & gear & carb\\\\\n  & <dbl> & <dbl> & <dbl> & <dbl> & <dbl> & <dbl> & <dbl> & <dbl> & <dbl> & <dbl> & <dbl>\\\\\n\\hline\n\tHornet 4 Drive & 21.4 & 6 & 258.0 & 110 & 3.08 & 3.215 & 19.44 & 1 & 0 & 3 & 1\\\\\n\tMerc 280 & 19.2 & 6 & 167.6 & 123 & 3.92 & 3.440 & 18.30 & 1 & 0 & 4 & 4\\\\\n\tMerc 450SL & 17.3 & 8 & 275.8 & 180 & 3.07 & 3.730 & 17.60 & 0 & 0 & 3 & 3\\\\\n\tCadillac Fleetwood & 10.4 & 8 & 472.0 & 205 & 2.93 & 5.250 & 17.98 & 0 & 0 & 3 & 4\\\\\n\tToyota Corona & 21.5 & 4 & 120.1 &  97 & 3.70 & 2.465 & 20.01 & 1 & 0 & 3 & 1\\\\\n\tFiat X1-9 & 27.3 & 4 &  79.0 &  66 & 4.08 & 1.935 & 18.90 & 1 & 1 & 4 & 1\\\\\n\\end{tabular}\n",
            "text/plain": [
              "                   mpg  cyl disp  hp  drat wt    qsec  vs am gear carb\n",
              "Hornet 4 Drive     21.4 6   258.0 110 3.08 3.215 19.44 1  0  3    1   \n",
              "Merc 280           19.2 6   167.6 123 3.92 3.440 18.30 1  0  4    4   \n",
              "Merc 450SL         17.3 8   275.8 180 3.07 3.730 17.60 0  0  3    3   \n",
              "Cadillac Fleetwood 10.4 8   472.0 205 2.93 5.250 17.98 0  0  3    4   \n",
              "Toyota Corona      21.5 4   120.1  97 3.70 2.465 20.01 1  0  3    1   \n",
              "Fiat X1-9          27.3 4    79.0  66 4.08 1.935 18.90 1  1  4    1   "
            ]
          },
          "metadata": {}
        }
      ]
    },
    {
      "cell_type": "code",
      "source": [
        "# Binomial regression for all parameters\n",
        "#logistical_model1 <- glm(vs ~., data = skup_tren, family = \"binomial\")\n",
        "#logistical_model1\n",
        "\n",
        "# Binomial regression for certain parameters\n",
        "logistical_model2 <- glm(vs ~ wt + disp, data = skup_tren, family = \"binomial\")\n",
        "#logistical_model2\n",
        "#summary(logistical_model2)\n",
        "\n",
        "# Prediction\n",
        "prediction <- predict(logistical_model2, skup_test, type = 'response')\n",
        "#prediction\n",
        "\n",
        "prediction2 <- ifelse(prediction > 0.5, 1, 0)\n",
        "#prediction2\n",
        "\n",
        "#install.packages('caret')\n",
        "\n",
        "# Confusion matrix:\n",
        "confusionMatrix <- confusionMatrix(factor(prediction), factor(skup_test$vs))"
      ],
      "metadata": {
        "id": "h58rRkLM1vTg"
      },
      "execution_count": null,
      "outputs": []
    },
    {
      "cell_type": "code",
      "source": [
        "# TASK\n",
        "\n",
        "fiat128 <- data.frame(wt = 2.2, disp = 78.7)\n",
        "fiat128_prediction <-predict(logistical_model2, fiat128, type = 'response')\n",
        "fiat128_prediction * 100"
      ],
      "metadata": {
        "colab": {
          "base_uri": "https://localhost:8080/",
          "height": 34
        },
        "id": "RXbkSy7p7Xnj",
        "outputId": "dbf2034f-45b8-41df-95b5-931017f5ec3b"
      },
      "execution_count": 79,
      "outputs": [
        {
          "output_type": "display_data",
          "data": {
            "text/html": [
              "<strong>1:</strong> 94.7265018287258"
            ],
            "text/markdown": "**1:** 94.7265018287258",
            "text/latex": "\\textbf{1:} 94.7265018287258",
            "text/plain": [
              "      1 \n",
              "94.7265 "
            ]
          },
          "metadata": {}
        }
      ]
    }
  ]
}