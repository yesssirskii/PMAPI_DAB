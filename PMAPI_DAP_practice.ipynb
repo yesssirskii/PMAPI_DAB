{
  "nbformat": 4,
  "nbformat_minor": 0,
  "metadata": {
    "colab": {
      "provenance": [],
      "collapsed_sections": [],
      "authorship_tag": "ABX9TyOlG3r+dH07ZILteIfXJsd9"
    },
    "kernelspec": {
      "name": "ir",
      "display_name": "R"
    },
    "language_info": {
      "name": "R"
    }
  },
  "cells": [
    {
      "cell_type": "markdown",
      "source": [
        "# **Practice 14.10.2022. - Markdown**\n",
        "\n",
        "---\n",
        "\n",
        "I will also be using HackMD. [Link](https://hackmd.io/?nav=overview)    \n",
        "\n",
        "## Text decoration\n",
        "\n",
        "This word is **bold**.  \n",
        "This word is _italic_.  \n",
        "These words are **_bold & italic_**.    \n",
        "We must write this sentence \\*italic* and \\*\\*bold**.\n",
        "\n",
        "> This is a comment.  \n",
        "<font color = red>Some red text.</font>   \n",
        "\n",
        "## Inserting images  \n",
        "\n",
        "Two ways to insert an image:\n",
        "\n",
        "![Old FIDIT logo](https://media-exp1.licdn.com/dms/image/C4D0BAQGknJSvyhNAKw/company-logo_200_200/0/1646391178802?e=2147483647&v=beta&t=ew8ZqmVzIdWtnQ2AxPo9_p50iyVnJYuhyyHFOVwREno)  \n",
        "\n",
        "<img src = \"https://media-exp1.licdn.com/dms/image/C4D0BAQGknJSvyhNAKw/company-logo_200_200/0/1646391178802?e=2147483647&v=beta&t=ew8ZqmVzIdWtnQ2AxPo9_p50iyVnJYuhyyHFOVwREno\" title = \"FIDIT\" height = 40%>  \n",
        "\n",
        "## Writing or embedding code  \n",
        "  \n",
        "### C++  \n",
        "```cpp  \n",
        "for (int i = 0; i<10; i++)\n",
        "{\n",
        "  cout << \"Number: \" << i;\n",
        "}\n",
        "```"
      ],
      "metadata": {
        "id": "RBAeht3XlvNE"
      }
    },
    {
      "cell_type": "markdown",
      "source": [
        "# **Practice 14.10.2022. - R**\n",
        "\n"
      ],
      "metadata": {
        "id": "_LCTzJ5QaoC5"
      }
    },
    {
      "cell_type": "code",
      "execution_count": null,
      "metadata": {
        "id": "UW8vXFwbkC3r",
        "colab": {
          "base_uri": "https://localhost:8080/",
          "height": 34
        },
        "outputId": "3743b09e-18d5-4428-908d-c85b84499eca"
      },
      "outputs": [
        {
          "output_type": "display_data",
          "data": {
            "text/html": [
              "12"
            ],
            "text/markdown": "12",
            "text/latex": "12",
            "text/plain": [
              "[1] 12"
            ]
          },
          "metadata": {}
        }
      ],
      "source": [
        "# This is a code cell.\n",
        "# In this cell code can be written and executed.  \n",
        "c <- 12\n",
        "c"
      ]
    },
    {
      "cell_type": "markdown",
      "source": [
        "## Matrixes"
      ],
      "metadata": {
        "id": "DDzi4PbLcjfT"
      }
    },
    {
      "cell_type": "code",
      "source": [
        "first_matrix <- matrix(1:12)  \n",
        "\n",
        "second_matrix <- matrix(1:7, nrow=3, ncol = 4, byrow = T)\n",
        "second_matrix"
      ],
      "metadata": {
        "id": "aaOyE2a_ltSs",
        "colab": {
          "base_uri": "https://localhost:8080/",
          "height": 198
        },
        "outputId": "b9cf63d2-3e09-4f41-a64a-eaa4d0c77b8f"
      },
      "execution_count": 2,
      "outputs": [
        {
          "output_type": "stream",
          "name": "stderr",
          "text": [
            "Warning message in matrix(1:7, nrow = 3, ncol = 4, byrow = T):\n",
            "“data length [7] is not a sub-multiple or multiple of the number of rows [3]”\n"
          ]
        },
        {
          "output_type": "display_data",
          "data": {
            "text/html": [
              "<table class=\"dataframe\">\n",
              "<caption>A matrix: 3 × 4 of type int</caption>\n",
              "<tbody>\n",
              "\t<tr><td>1</td><td>2</td><td>3</td><td>4</td></tr>\n",
              "\t<tr><td>5</td><td>6</td><td>7</td><td>1</td></tr>\n",
              "\t<tr><td>2</td><td>3</td><td>4</td><td>5</td></tr>\n",
              "</tbody>\n",
              "</table>\n"
            ],
            "text/markdown": "\nA matrix: 3 × 4 of type int\n\n| 1 | 2 | 3 | 4 |\n| 5 | 6 | 7 | 1 |\n| 2 | 3 | 4 | 5 |\n\n",
            "text/latex": "A matrix: 3 × 4 of type int\n\\begin{tabular}{llll}\n\t 1 & 2 & 3 & 4\\\\\n\t 5 & 6 & 7 & 1\\\\\n\t 2 & 3 & 4 & 5\\\\\n\\end{tabular}\n",
            "text/plain": [
              "     [,1] [,2] [,3] [,4]\n",
              "[1,] 1    2    3    4   \n",
              "[2,] 5    6    7    1   \n",
              "[3,] 2    3    4    5   "
            ]
          },
          "metadata": {}
        }
      ]
    },
    {
      "cell_type": "markdown",
      "source": [
        ">_byrow_: matrix content is filled by row (by default, matrix content is filled by column)."
      ],
      "metadata": {
        "id": "2ilV8vOZdDwd"
      }
    },
    {
      "cell_type": "code",
      "source": [
        "r1 <- c(1,2,3)\n",
        "r2 <- c(4,5,6)\n",
        "r3 <- c(7,8,9)\n",
        "matrica2 <- matrix(c(r1, r2, r3), ncol = 4, byrow = T)\n",
        "matrica2"
      ],
      "metadata": {
        "id": "hI-cSveTdajn",
        "colab": {
          "base_uri": "https://localhost:8080/",
          "height": 198
        },
        "outputId": "04f07e17-274d-49b1-b5a8-60163b6bfb38"
      },
      "execution_count": 3,
      "outputs": [
        {
          "output_type": "stream",
          "name": "stderr",
          "text": [
            "Warning message in matrix(c(r1, r2, r3), ncol = 4, byrow = T):\n",
            "“data length [9] is not a sub-multiple or multiple of the number of columns [4]”\n"
          ]
        },
        {
          "output_type": "display_data",
          "data": {
            "text/html": [
              "<table class=\"dataframe\">\n",
              "<caption>A matrix: 3 × 4 of type dbl</caption>\n",
              "<tbody>\n",
              "\t<tr><td>1</td><td>2</td><td>3</td><td>4</td></tr>\n",
              "\t<tr><td>5</td><td>6</td><td>7</td><td>8</td></tr>\n",
              "\t<tr><td>9</td><td>1</td><td>2</td><td>3</td></tr>\n",
              "</tbody>\n",
              "</table>\n"
            ],
            "text/markdown": "\nA matrix: 3 × 4 of type dbl\n\n| 1 | 2 | 3 | 4 |\n| 5 | 6 | 7 | 8 |\n| 9 | 1 | 2 | 3 |\n\n",
            "text/latex": "A matrix: 3 × 4 of type dbl\n\\begin{tabular}{llll}\n\t 1 & 2 & 3 & 4\\\\\n\t 5 & 6 & 7 & 8\\\\\n\t 9 & 1 & 2 & 3\\\\\n\\end{tabular}\n",
            "text/plain": [
              "     [,1] [,2] [,3] [,4]\n",
              "[1,] 1    2    3    4   \n",
              "[2,] 5    6    7    8   \n",
              "[3,] 9    1    2    3   "
            ]
          },
          "metadata": {}
        }
      ]
    },
    {
      "cell_type": "code",
      "source": [
        "pon <- c(6, 15, 19)\n",
        "uto <- c(0, 6, 7)\n",
        "sri <- c(-1, 4, 4)\n",
        "cet <- c(-1, 2, 1)\n",
        "\n",
        "temperature <- matrix(c(pon, uto, sri, cet), nrow = 4, byrow = T)\n",
        "# printing the temperature variable:\n",
        "temperature"
      ],
      "metadata": {
        "id": "FE2Y4zJdexic",
        "colab": {
          "base_uri": "https://localhost:8080/",
          "height": 195
        },
        "outputId": "fcb1e5dc-5332-4d83-8ab4-e5b6886ad67a"
      },
      "execution_count": 4,
      "outputs": [
        {
          "output_type": "display_data",
          "data": {
            "text/html": [
              "<table class=\"dataframe\">\n",
              "<caption>A matrix: 4 × 3 of type dbl</caption>\n",
              "<tbody>\n",
              "\t<tr><td> 6</td><td>15</td><td>19</td></tr>\n",
              "\t<tr><td> 0</td><td> 6</td><td> 7</td></tr>\n",
              "\t<tr><td>-1</td><td> 4</td><td> 4</td></tr>\n",
              "\t<tr><td>-1</td><td> 2</td><td> 1</td></tr>\n",
              "</tbody>\n",
              "</table>\n"
            ],
            "text/markdown": "\nA matrix: 4 × 3 of type dbl\n\n|  6 | 15 | 19 |\n|  0 |  6 |  7 |\n| -1 |  4 |  4 |\n| -1 |  2 |  1 |\n\n",
            "text/latex": "A matrix: 4 × 3 of type dbl\n\\begin{tabular}{lll}\n\t  6 & 15 & 19\\\\\n\t  0 &  6 &  7\\\\\n\t -1 &  4 &  4\\\\\n\t -1 &  2 &  1\\\\\n\\end{tabular}\n",
            "text/plain": [
              "     [,1] [,2] [,3]\n",
              "[1,]  6   15   19  \n",
              "[2,]  0    6    7  \n",
              "[3,] -1    4    4  \n",
              "[4,] -1    2    1  "
            ]
          },
          "metadata": {}
        }
      ]
    },
    {
      "cell_type": "markdown",
      "source": [
        "> _c_ is a vector!"
      ],
      "metadata": {
        "id": "75ETiuijfdXq"
      }
    },
    {
      "cell_type": "code",
      "source": [
        "temperature"
      ],
      "metadata": {
        "id": "Dsc6zNU5fwV6",
        "colab": {
          "base_uri": "https://localhost:8080/",
          "height": 195
        },
        "outputId": "6681486a-2e57-45cc-f526-cc1e6c28f0c8"
      },
      "execution_count": 5,
      "outputs": [
        {
          "output_type": "display_data",
          "data": {
            "text/html": [
              "<table class=\"dataframe\">\n",
              "<caption>A matrix: 4 × 3 of type dbl</caption>\n",
              "<tbody>\n",
              "\t<tr><td> 6</td><td>15</td><td>19</td></tr>\n",
              "\t<tr><td> 0</td><td> 6</td><td> 7</td></tr>\n",
              "\t<tr><td>-1</td><td> 4</td><td> 4</td></tr>\n",
              "\t<tr><td>-1</td><td> 2</td><td> 1</td></tr>\n",
              "</tbody>\n",
              "</table>\n"
            ],
            "text/markdown": "\nA matrix: 4 × 3 of type dbl\n\n|  6 | 15 | 19 |\n|  0 |  6 |  7 |\n| -1 |  4 |  4 |\n| -1 |  2 |  1 |\n\n",
            "text/latex": "A matrix: 4 × 3 of type dbl\n\\begin{tabular}{lll}\n\t  6 & 15 & 19\\\\\n\t  0 &  6 &  7\\\\\n\t -1 &  4 &  4\\\\\n\t -1 &  2 &  1\\\\\n\\end{tabular}\n",
            "text/plain": [
              "     [,1] [,2] [,3]\n",
              "[1,]  6   15   19  \n",
              "[2,]  0    6    7  \n",
              "[3,] -1    4    4  \n",
              "[4,] -1    2    1  "
            ]
          },
          "metadata": {}
        }
      ]
    },
    {
      "cell_type": "markdown",
      "source": [
        "> Variables from all cells can be used in any cell."
      ],
      "metadata": {
        "id": "Ef5zTR5cfzqS"
      }
    },
    {
      "cell_type": "markdown",
      "source": [
        "## Adding row and column names to a matrix"
      ],
      "metadata": {
        "id": "3axJVkqjg8Q3"
      }
    },
    {
      "cell_type": "code",
      "source": [
        "column_names <- c('Morning', 'Afternoon', 'Evening')\n",
        "row_names <- c('Mon', 'Tue', 'Wed', 'Thu')\n",
        "\n",
        "rownames(temperature) <- row_names\n",
        "colnames(temperature) <- column_names\n",
        "temperature"
      ],
      "metadata": {
        "id": "OvyFPNm4gDn7",
        "colab": {
          "base_uri": "https://localhost:8080/",
          "height": 192
        },
        "outputId": "4cceb023-9ce5-4ff2-d7cd-aa96a61d52a1"
      },
      "execution_count": 6,
      "outputs": [
        {
          "output_type": "display_data",
          "data": {
            "text/html": [
              "<table class=\"dataframe\">\n",
              "<caption>A matrix: 4 × 3 of type dbl</caption>\n",
              "<thead>\n",
              "\t<tr><th></th><th scope=col>Morning</th><th scope=col>Afternoon</th><th scope=col>Evening</th></tr>\n",
              "</thead>\n",
              "<tbody>\n",
              "\t<tr><th scope=row>Mon</th><td> 6</td><td>15</td><td>19</td></tr>\n",
              "\t<tr><th scope=row>Tue</th><td> 0</td><td> 6</td><td> 7</td></tr>\n",
              "\t<tr><th scope=row>Wed</th><td>-1</td><td> 4</td><td> 4</td></tr>\n",
              "\t<tr><th scope=row>Thu</th><td>-1</td><td> 2</td><td> 1</td></tr>\n",
              "</tbody>\n",
              "</table>\n"
            ],
            "text/markdown": "\nA matrix: 4 × 3 of type dbl\n\n| <!--/--> | Morning | Afternoon | Evening |\n|---|---|---|---|\n| Mon |  6 | 15 | 19 |\n| Tue |  0 |  6 |  7 |\n| Wed | -1 |  4 |  4 |\n| Thu | -1 |  2 |  1 |\n\n",
            "text/latex": "A matrix: 4 × 3 of type dbl\n\\begin{tabular}{r|lll}\n  & Morning & Afternoon & Evening\\\\\n\\hline\n\tMon &  6 & 15 & 19\\\\\n\tTue &  0 &  6 &  7\\\\\n\tWed & -1 &  4 &  4\\\\\n\tThu & -1 &  2 &  1\\\\\n\\end{tabular}\n",
            "text/plain": [
              "    Morning Afternoon Evening\n",
              "Mon  6      15        19     \n",
              "Tue  0       6         7     \n",
              "Wed -1       4         4     \n",
              "Thu -1       2         1     "
            ]
          },
          "metadata": {}
        }
      ]
    },
    {
      "cell_type": "markdown",
      "source": [
        "## Adding matrix rows and columns"
      ],
      "metadata": {
        "id": "3bmLt0eyh5Kq"
      }
    },
    {
      "cell_type": "code",
      "source": [
        "parni <- matrix(seq(2, 18, 2), ncol = 3, byrow = T)\n",
        "parni\n",
        "rowSums(parni)\n",
        "colSums(parni)\n",
        "\n",
        "matrix(rowSums(parni))\n",
        "matrix(colSums(parni), 1:3)"
      ],
      "metadata": {
        "id": "3RgAwnN0hGg3",
        "colab": {
          "base_uri": "https://localhost:8080/",
          "height": 428
        },
        "outputId": "6cc29993-47ad-40b1-9ced-3c89a73d0f6b"
      },
      "execution_count": 7,
      "outputs": [
        {
          "output_type": "display_data",
          "data": {
            "text/html": [
              "<table class=\"dataframe\">\n",
              "<caption>A matrix: 3 × 3 of type dbl</caption>\n",
              "<tbody>\n",
              "\t<tr><td> 2</td><td> 4</td><td> 6</td></tr>\n",
              "\t<tr><td> 8</td><td>10</td><td>12</td></tr>\n",
              "\t<tr><td>14</td><td>16</td><td>18</td></tr>\n",
              "</tbody>\n",
              "</table>\n"
            ],
            "text/markdown": "\nA matrix: 3 × 3 of type dbl\n\n|  2 |  4 |  6 |\n|  8 | 10 | 12 |\n| 14 | 16 | 18 |\n\n",
            "text/latex": "A matrix: 3 × 3 of type dbl\n\\begin{tabular}{lll}\n\t  2 &  4 &  6\\\\\n\t  8 & 10 & 12\\\\\n\t 14 & 16 & 18\\\\\n\\end{tabular}\n",
            "text/plain": [
              "     [,1] [,2] [,3]\n",
              "[1,]  2    4    6  \n",
              "[2,]  8   10   12  \n",
              "[3,] 14   16   18  "
            ]
          },
          "metadata": {}
        },
        {
          "output_type": "display_data",
          "data": {
            "text/html": [
              "<style>\n",
              ".list-inline {list-style: none; margin:0; padding: 0}\n",
              ".list-inline>li {display: inline-block}\n",
              ".list-inline>li:not(:last-child)::after {content: \"\\00b7\"; padding: 0 .5ex}\n",
              "</style>\n",
              "<ol class=list-inline><li>12</li><li>30</li><li>48</li></ol>\n"
            ],
            "text/markdown": "1. 12\n2. 30\n3. 48\n\n\n",
            "text/latex": "\\begin{enumerate*}\n\\item 12\n\\item 30\n\\item 48\n\\end{enumerate*}\n",
            "text/plain": [
              "[1] 12 30 48"
            ]
          },
          "metadata": {}
        },
        {
          "output_type": "display_data",
          "data": {
            "text/html": [
              "<style>\n",
              ".list-inline {list-style: none; margin:0; padding: 0}\n",
              ".list-inline>li {display: inline-block}\n",
              ".list-inline>li:not(:last-child)::after {content: \"\\00b7\"; padding: 0 .5ex}\n",
              "</style>\n",
              "<ol class=list-inline><li>24</li><li>30</li><li>36</li></ol>\n"
            ],
            "text/markdown": "1. 24\n2. 30\n3. 36\n\n\n",
            "text/latex": "\\begin{enumerate*}\n\\item 24\n\\item 30\n\\item 36\n\\end{enumerate*}\n",
            "text/plain": [
              "[1] 24 30 36"
            ]
          },
          "metadata": {}
        },
        {
          "output_type": "display_data",
          "data": {
            "text/html": [
              "<table class=\"dataframe\">\n",
              "<caption>A matrix: 3 × 1 of type dbl</caption>\n",
              "<tbody>\n",
              "\t<tr><td>12</td></tr>\n",
              "\t<tr><td>30</td></tr>\n",
              "\t<tr><td>48</td></tr>\n",
              "</tbody>\n",
              "</table>\n"
            ],
            "text/markdown": "\nA matrix: 3 × 1 of type dbl\n\n| 12 |\n| 30 |\n| 48 |\n\n",
            "text/latex": "A matrix: 3 × 1 of type dbl\n\\begin{tabular}{l}\n\t 12\\\\\n\t 30\\\\\n\t 48\\\\\n\\end{tabular}\n",
            "text/plain": [
              "     [,1]\n",
              "[1,] 12  \n",
              "[2,] 30  \n",
              "[3,] 48  "
            ]
          },
          "metadata": {}
        },
        {
          "output_type": "display_data",
          "data": {
            "text/html": [
              "<table class=\"dataframe\">\n",
              "<caption>A matrix: 1 × 3 of type dbl</caption>\n",
              "<tbody>\n",
              "\t<tr><td>24</td><td>30</td><td>36</td></tr>\n",
              "</tbody>\n",
              "</table>\n"
            ],
            "text/markdown": "\nA matrix: 1 × 3 of type dbl\n\n| 24 | 30 | 36 |\n\n",
            "text/latex": "A matrix: 1 × 3 of type dbl\n\\begin{tabular}{lll}\n\t 24 & 30 & 36\\\\\n\\end{tabular}\n",
            "text/plain": [
              "     [,1] [,2] [,3]\n",
              "[1,] 24   30   36  "
            ]
          },
          "metadata": {}
        }
      ]
    },
    {
      "cell_type": "markdown",
      "source": [
        "## Binding matrixes"
      ],
      "metadata": {
        "id": "eJqDrcVziypt"
      }
    },
    {
      "cell_type": "code",
      "source": [
        "Fri <- c(4, 12, 18)\n",
        "#Binding values from _pet_ matrix to _temperature_ matrix\n",
        "temperature <- rbind(temperature, Fri)\n",
        "Sat <- c(2, 4, 6)\n",
        "temperature <- rbind(temperature, Sat)\n",
        "Sun <- c(1, 2, 3)\n",
        "temperature <- rbind(temperature, Sun)\n",
        "temperature"
      ],
      "metadata": {
        "id": "Yfle26d0i22e",
        "colab": {
          "base_uri": "https://localhost:8080/",
          "height": 286
        },
        "outputId": "6a1a9e73-c528-4219-dd18-607a1ec37fb4"
      },
      "execution_count": 8,
      "outputs": [
        {
          "output_type": "display_data",
          "data": {
            "text/html": [
              "<table class=\"dataframe\">\n",
              "<caption>A matrix: 7 × 3 of type dbl</caption>\n",
              "<thead>\n",
              "\t<tr><th></th><th scope=col>Morning</th><th scope=col>Afternoon</th><th scope=col>Evening</th></tr>\n",
              "</thead>\n",
              "<tbody>\n",
              "\t<tr><th scope=row>Mon</th><td> 6</td><td>15</td><td>19</td></tr>\n",
              "\t<tr><th scope=row>Tue</th><td> 0</td><td> 6</td><td> 7</td></tr>\n",
              "\t<tr><th scope=row>Wed</th><td>-1</td><td> 4</td><td> 4</td></tr>\n",
              "\t<tr><th scope=row>Thu</th><td>-1</td><td> 2</td><td> 1</td></tr>\n",
              "\t<tr><th scope=row>Fri</th><td> 4</td><td>12</td><td>18</td></tr>\n",
              "\t<tr><th scope=row>Sat</th><td> 2</td><td> 4</td><td> 6</td></tr>\n",
              "\t<tr><th scope=row>Sun</th><td> 1</td><td> 2</td><td> 3</td></tr>\n",
              "</tbody>\n",
              "</table>\n"
            ],
            "text/markdown": "\nA matrix: 7 × 3 of type dbl\n\n| <!--/--> | Morning | Afternoon | Evening |\n|---|---|---|---|\n| Mon |  6 | 15 | 19 |\n| Tue |  0 |  6 |  7 |\n| Wed | -1 |  4 |  4 |\n| Thu | -1 |  2 |  1 |\n| Fri |  4 | 12 | 18 |\n| Sat |  2 |  4 |  6 |\n| Sun |  1 |  2 |  3 |\n\n",
            "text/latex": "A matrix: 7 × 3 of type dbl\n\\begin{tabular}{r|lll}\n  & Morning & Afternoon & Evening\\\\\n\\hline\n\tMon &  6 & 15 & 19\\\\\n\tTue &  0 &  6 &  7\\\\\n\tWed & -1 &  4 &  4\\\\\n\tThu & -1 &  2 &  1\\\\\n\tFri &  4 & 12 & 18\\\\\n\tSat &  2 &  4 &  6\\\\\n\tSun &  1 &  2 &  3\\\\\n\\end{tabular}\n",
            "text/plain": [
              "    Morning Afternoon Evening\n",
              "Mon  6      15        19     \n",
              "Tue  0       6         7     \n",
              "Wed -1       4         4     \n",
              "Thu -1       2         1     \n",
              "Fri  4      12        18     \n",
              "Sat  2       4         6     \n",
              "Sun  1       2         3     "
            ]
          },
          "metadata": {}
        }
      ]
    },
    {
      "cell_type": "code",
      "source": [
        "Night <- c(0,0,0)\n",
        "temperature <- cbind(temperature, Night)\n",
        "Sunrise <- c(2)\n",
        "temperature <- cbind(temperature, Sunrise)\n",
        "temperature"
      ],
      "metadata": {
        "id": "ezrcwbKwmWo3",
        "colab": {
          "base_uri": "https://localhost:8080/",
          "height": 321
        },
        "outputId": "32afdb40-9d26-4865-ef47-89628088ab4a"
      },
      "execution_count": 9,
      "outputs": [
        {
          "output_type": "stream",
          "name": "stderr",
          "text": [
            "Warning message in cbind(temperature, Night):\n",
            "“number of rows of result is not a multiple of vector length (arg 2)”\n"
          ]
        },
        {
          "output_type": "display_data",
          "data": {
            "text/html": [
              "<table class=\"dataframe\">\n",
              "<caption>A matrix: 7 × 5 of type dbl</caption>\n",
              "<thead>\n",
              "\t<tr><th></th><th scope=col>Morning</th><th scope=col>Afternoon</th><th scope=col>Evening</th><th scope=col>Night</th><th scope=col>Sunrise</th></tr>\n",
              "</thead>\n",
              "<tbody>\n",
              "\t<tr><th scope=row>Mon</th><td> 6</td><td>15</td><td>19</td><td>0</td><td>2</td></tr>\n",
              "\t<tr><th scope=row>Tue</th><td> 0</td><td> 6</td><td> 7</td><td>0</td><td>2</td></tr>\n",
              "\t<tr><th scope=row>Wed</th><td>-1</td><td> 4</td><td> 4</td><td>0</td><td>2</td></tr>\n",
              "\t<tr><th scope=row>Thu</th><td>-1</td><td> 2</td><td> 1</td><td>0</td><td>2</td></tr>\n",
              "\t<tr><th scope=row>Fri</th><td> 4</td><td>12</td><td>18</td><td>0</td><td>2</td></tr>\n",
              "\t<tr><th scope=row>Sat</th><td> 2</td><td> 4</td><td> 6</td><td>0</td><td>2</td></tr>\n",
              "\t<tr><th scope=row>Sun</th><td> 1</td><td> 2</td><td> 3</td><td>0</td><td>2</td></tr>\n",
              "</tbody>\n",
              "</table>\n"
            ],
            "text/markdown": "\nA matrix: 7 × 5 of type dbl\n\n| <!--/--> | Morning | Afternoon | Evening | Night | Sunrise |\n|---|---|---|---|---|---|\n| Mon |  6 | 15 | 19 | 0 | 2 |\n| Tue |  0 |  6 |  7 | 0 | 2 |\n| Wed | -1 |  4 |  4 | 0 | 2 |\n| Thu | -1 |  2 |  1 | 0 | 2 |\n| Fri |  4 | 12 | 18 | 0 | 2 |\n| Sat |  2 |  4 |  6 | 0 | 2 |\n| Sun |  1 |  2 |  3 | 0 | 2 |\n\n",
            "text/latex": "A matrix: 7 × 5 of type dbl\n\\begin{tabular}{r|lllll}\n  & Morning & Afternoon & Evening & Night & Sunrise\\\\\n\\hline\n\tMon &  6 & 15 & 19 & 0 & 2\\\\\n\tTue &  0 &  6 &  7 & 0 & 2\\\\\n\tWed & -1 &  4 &  4 & 0 & 2\\\\\n\tThu & -1 &  2 &  1 & 0 & 2\\\\\n\tFri &  4 & 12 & 18 & 0 & 2\\\\\n\tSat &  2 &  4 &  6 & 0 & 2\\\\\n\tSun &  1 &  2 &  3 & 0 & 2\\\\\n\\end{tabular}\n",
            "text/plain": [
              "    Morning Afternoon Evening Night Sunrise\n",
              "Mon  6      15        19      0     2      \n",
              "Tue  0       6         7      0     2      \n",
              "Wed -1       4         4      0     2      \n",
              "Thu -1       2         1      0     2      \n",
              "Fri  4      12        18      0     2      \n",
              "Sat  2       4         6      0     2      \n",
              "Sun  1       2         3      0     2      "
            ]
          },
          "metadata": {}
        }
      ]
    },
    {
      "cell_type": "code",
      "source": [
        "Sunrise2 <- c(1,2)\n",
        "temperature <- cbind(temperature, Sunrise2)\n",
        "temperature"
      ],
      "metadata": {
        "id": "FRIA6WtMnBEE",
        "colab": {
          "base_uri": "https://localhost:8080/",
          "height": 321
        },
        "outputId": "ef2ce565-4ab2-4e45-af0a-147bb168eef5"
      },
      "execution_count": 10,
      "outputs": [
        {
          "output_type": "stream",
          "name": "stderr",
          "text": [
            "Warning message in cbind(temperature, Sunrise2):\n",
            "“number of rows of result is not a multiple of vector length (arg 2)”\n"
          ]
        },
        {
          "output_type": "display_data",
          "data": {
            "text/html": [
              "<table class=\"dataframe\">\n",
              "<caption>A matrix: 7 × 6 of type dbl</caption>\n",
              "<thead>\n",
              "\t<tr><th></th><th scope=col>Morning</th><th scope=col>Afternoon</th><th scope=col>Evening</th><th scope=col>Night</th><th scope=col>Sunrise</th><th scope=col>Sunrise2</th></tr>\n",
              "</thead>\n",
              "<tbody>\n",
              "\t<tr><th scope=row>Mon</th><td> 6</td><td>15</td><td>19</td><td>0</td><td>2</td><td>1</td></tr>\n",
              "\t<tr><th scope=row>Tue</th><td> 0</td><td> 6</td><td> 7</td><td>0</td><td>2</td><td>2</td></tr>\n",
              "\t<tr><th scope=row>Wed</th><td>-1</td><td> 4</td><td> 4</td><td>0</td><td>2</td><td>1</td></tr>\n",
              "\t<tr><th scope=row>Thu</th><td>-1</td><td> 2</td><td> 1</td><td>0</td><td>2</td><td>2</td></tr>\n",
              "\t<tr><th scope=row>Fri</th><td> 4</td><td>12</td><td>18</td><td>0</td><td>2</td><td>1</td></tr>\n",
              "\t<tr><th scope=row>Sat</th><td> 2</td><td> 4</td><td> 6</td><td>0</td><td>2</td><td>2</td></tr>\n",
              "\t<tr><th scope=row>Sun</th><td> 1</td><td> 2</td><td> 3</td><td>0</td><td>2</td><td>1</td></tr>\n",
              "</tbody>\n",
              "</table>\n"
            ],
            "text/markdown": "\nA matrix: 7 × 6 of type dbl\n\n| <!--/--> | Morning | Afternoon | Evening | Night | Sunrise | Sunrise2 |\n|---|---|---|---|---|---|---|\n| Mon |  6 | 15 | 19 | 0 | 2 | 1 |\n| Tue |  0 |  6 |  7 | 0 | 2 | 2 |\n| Wed | -1 |  4 |  4 | 0 | 2 | 1 |\n| Thu | -1 |  2 |  1 | 0 | 2 | 2 |\n| Fri |  4 | 12 | 18 | 0 | 2 | 1 |\n| Sat |  2 |  4 |  6 | 0 | 2 | 2 |\n| Sun |  1 |  2 |  3 | 0 | 2 | 1 |\n\n",
            "text/latex": "A matrix: 7 × 6 of type dbl\n\\begin{tabular}{r|llllll}\n  & Morning & Afternoon & Evening & Night & Sunrise & Sunrise2\\\\\n\\hline\n\tMon &  6 & 15 & 19 & 0 & 2 & 1\\\\\n\tTue &  0 &  6 &  7 & 0 & 2 & 2\\\\\n\tWed & -1 &  4 &  4 & 0 & 2 & 1\\\\\n\tThu & -1 &  2 &  1 & 0 & 2 & 2\\\\\n\tFri &  4 & 12 & 18 & 0 & 2 & 1\\\\\n\tSat &  2 &  4 &  6 & 0 & 2 & 2\\\\\n\tSun &  1 &  2 &  3 & 0 & 2 & 1\\\\\n\\end{tabular}\n",
            "text/plain": [
              "    Morning Afternoon Evening Night Sunrise Sunrise2\n",
              "Mon  6      15        19      0     2       1       \n",
              "Tue  0       6         7      0     2       2       \n",
              "Wed -1       4         4      0     2       1       \n",
              "Thu -1       2         1      0     2       2       \n",
              "Fri  4      12        18      0     2       1       \n",
              "Sat  2       4         6      0     2       2       \n",
              "Sun  1       2         3      0     2       1       "
            ]
          },
          "metadata": {}
        }
      ]
    },
    {
      "cell_type": "markdown",
      "source": [
        "> Some matrix columns and rows are repeated. This is beacuse a cell has been executed more than once."
      ],
      "metadata": {
        "id": "-JW7qi5RnM31"
      }
    },
    {
      "cell_type": "code",
      "source": [
        "# Average temperature value for Afternoon column.\n",
        "mean(temperature[,'Afternoon'])\n",
        "\n"
      ],
      "metadata": {
        "id": "jVC_Q_yQnYKX",
        "colab": {
          "base_uri": "https://localhost:8080/",
          "height": 34
        },
        "outputId": "2bef88d3-a95b-45ec-98db-312680cd1e9a"
      },
      "execution_count": 11,
      "outputs": [
        {
          "output_type": "display_data",
          "data": {
            "text/html": [
              "6.42857142857143"
            ],
            "text/markdown": "6.42857142857143",
            "text/latex": "6.42857142857143",
            "text/plain": [
              "[1] 6.428571"
            ]
          },
          "metadata": {}
        }
      ]
    },
    {
      "cell_type": "markdown",
      "source": [
        "## Task 1"
      ],
      "metadata": {
        "id": "wRZlTYXirRRb"
      }
    },
    {
      "cell_type": "code",
      "source": [
        "#Printing specific row values\n",
        "temperature[c('Sat', 'Sun'),]\n",
        "# or\n",
        "temperature[6:7,] \n",
        "\n",
        "#Average temperature during workdays in the morning\n",
        "mean(temperature[1:5,], 1)\n",
        "#or\n",
        "mean(temperature[1:5, c('Morning')])\n",
        "\n"
      ],
      "metadata": {
        "colab": {
          "base_uri": "https://localhost:8080/",
          "height": 277
        },
        "id": "iUauyaVrore0",
        "outputId": "b146d098-0b32-41c1-95f3-28206f013a74"
      },
      "execution_count": 12,
      "outputs": [
        {
          "output_type": "display_data",
          "data": {
            "text/html": [
              "<table class=\"dataframe\">\n",
              "<caption>A matrix: 2 × 6 of type dbl</caption>\n",
              "<thead>\n",
              "\t<tr><th></th><th scope=col>Morning</th><th scope=col>Afternoon</th><th scope=col>Evening</th><th scope=col>Night</th><th scope=col>Sunrise</th><th scope=col>Sunrise2</th></tr>\n",
              "</thead>\n",
              "<tbody>\n",
              "\t<tr><th scope=row>Sat</th><td>2</td><td>4</td><td>6</td><td>0</td><td>2</td><td>2</td></tr>\n",
              "\t<tr><th scope=row>Sun</th><td>1</td><td>2</td><td>3</td><td>0</td><td>2</td><td>1</td></tr>\n",
              "</tbody>\n",
              "</table>\n"
            ],
            "text/markdown": "\nA matrix: 2 × 6 of type dbl\n\n| <!--/--> | Morning | Afternoon | Evening | Night | Sunrise | Sunrise2 |\n|---|---|---|---|---|---|---|\n| Sat | 2 | 4 | 6 | 0 | 2 | 2 |\n| Sun | 1 | 2 | 3 | 0 | 2 | 1 |\n\n",
            "text/latex": "A matrix: 2 × 6 of type dbl\n\\begin{tabular}{r|llllll}\n  & Morning & Afternoon & Evening & Night & Sunrise & Sunrise2\\\\\n\\hline\n\tSat & 2 & 4 & 6 & 0 & 2 & 2\\\\\n\tSun & 1 & 2 & 3 & 0 & 2 & 1\\\\\n\\end{tabular}\n",
            "text/plain": [
              "    Morning Afternoon Evening Night Sunrise Sunrise2\n",
              "Sat 2       4         6       0     2       2       \n",
              "Sun 1       2         3       0     2       1       "
            ]
          },
          "metadata": {}
        },
        {
          "output_type": "display_data",
          "data": {
            "text/html": [
              "<table class=\"dataframe\">\n",
              "<caption>A matrix: 2 × 6 of type dbl</caption>\n",
              "<thead>\n",
              "\t<tr><th></th><th scope=col>Morning</th><th scope=col>Afternoon</th><th scope=col>Evening</th><th scope=col>Night</th><th scope=col>Sunrise</th><th scope=col>Sunrise2</th></tr>\n",
              "</thead>\n",
              "<tbody>\n",
              "\t<tr><th scope=row>Sat</th><td>2</td><td>4</td><td>6</td><td>0</td><td>2</td><td>2</td></tr>\n",
              "\t<tr><th scope=row>Sun</th><td>1</td><td>2</td><td>3</td><td>0</td><td>2</td><td>1</td></tr>\n",
              "</tbody>\n",
              "</table>\n"
            ],
            "text/markdown": "\nA matrix: 2 × 6 of type dbl\n\n| <!--/--> | Morning | Afternoon | Evening | Night | Sunrise | Sunrise2 |\n|---|---|---|---|---|---|---|\n| Sat | 2 | 4 | 6 | 0 | 2 | 2 |\n| Sun | 1 | 2 | 3 | 0 | 2 | 1 |\n\n",
            "text/latex": "A matrix: 2 × 6 of type dbl\n\\begin{tabular}{r|llllll}\n  & Morning & Afternoon & Evening & Night & Sunrise & Sunrise2\\\\\n\\hline\n\tSat & 2 & 4 & 6 & 0 & 2 & 2\\\\\n\tSun & 1 & 2 & 3 & 0 & 2 & 1\\\\\n\\end{tabular}\n",
            "text/plain": [
              "    Morning Afternoon Evening Night Sunrise Sunrise2\n",
              "Sat 2       4         6       0     2       2       \n",
              "Sun 1       2         3       0     2       1       "
            ]
          },
          "metadata": {}
        },
        {
          "output_type": "display_data",
          "data": {
            "text/html": [
              "2"
            ],
            "text/markdown": "2",
            "text/latex": "2",
            "text/plain": [
              "[1] 2"
            ]
          },
          "metadata": {}
        },
        {
          "output_type": "display_data",
          "data": {
            "text/html": [
              "1.6"
            ],
            "text/markdown": "1.6",
            "text/latex": "1.6",
            "text/plain": [
              "[1] 1.6"
            ]
          },
          "metadata": {}
        }
      ]
    }
  ]
}