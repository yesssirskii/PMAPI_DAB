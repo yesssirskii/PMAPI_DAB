{
  "nbformat": 4,
  "nbformat_minor": 0,
  "metadata": {
    "colab": {
      "provenance": [],
      "collapsed_sections": [],
      "authorship_tag": "ABX9TyMpWpNMIIYUaIonQHD8Os6l"
    },
    "kernelspec": {
      "name": "ir",
      "display_name": "R"
    },
    "language_info": {
      "name": "R"
    }
  },
  "cells": [
    {
      "cell_type": "markdown",
      "source": [
        "# **Practice 14.10.2022. - Markdown**\n",
        "\n",
        "---\n",
        "\n",
        "I will also be using HackMD. [Link](https://hackmd.io/?nav=overview)    \n",
        "\n",
        "## Text decoration\n",
        "\n",
        "This word is **bold**.  \n",
        "This word is _italic_.  \n",
        "These words are **_bold & italic_**.    \n",
        "We must write this sentence \\*italic* and \\*\\*bold**.\n",
        "\n",
        "> This is a comment.  \n",
        "<font color = red>Some red text.</font>   \n",
        "\n",
        "## Inserting images  \n",
        "\n",
        "Two ways to insert an image:\n",
        "\n",
        "![Old FIDIT logo](https://media-exp1.licdn.com/dms/image/C4D0BAQGknJSvyhNAKw/company-logo_200_200/0/1646391178802?e=2147483647&v=beta&t=ew8ZqmVzIdWtnQ2AxPo9_p50iyVnJYuhyyHFOVwREno)  \n",
        "\n",
        "<img src = \"https://media-exp1.licdn.com/dms/image/C4D0BAQGknJSvyhNAKw/company-logo_200_200/0/1646391178802?e=2147483647&v=beta&t=ew8ZqmVzIdWtnQ2AxPo9_p50iyVnJYuhyyHFOVwREno\" title = \"FIDIT\" height = 40%>  \n",
        "\n",
        "## Writing or embedding code  \n",
        "  \n",
        "### C++  \n",
        "```cpp  \n",
        "for (int i = 0; i<10; i++)\n",
        "{\n",
        "  cout << \"Number: \" << i;\n",
        "}\n",
        "```"
      ],
      "metadata": {
        "id": "RBAeht3XlvNE"
      }
    },
    {
      "cell_type": "markdown",
      "source": [
        "# **Practice 14.10.2022. - R**\n",
        "\n"
      ],
      "metadata": {
        "id": "_LCTzJ5QaoC5"
      }
    },
    {
      "cell_type": "code",
      "execution_count": null,
      "metadata": {
        "id": "UW8vXFwbkC3r",
        "colab": {
          "base_uri": "https://localhost:8080/",
          "height": 34
        },
        "outputId": "3743b09e-18d5-4428-908d-c85b84499eca"
      },
      "outputs": [
        {
          "output_type": "display_data",
          "data": {
            "text/html": [
              "12"
            ],
            "text/markdown": "12",
            "text/latex": "12",
            "text/plain": [
              "[1] 12"
            ]
          },
          "metadata": {}
        }
      ],
      "source": [
        "# This is a code cell.\n",
        "# In this cell code can be written and executed.  \n",
        "c <- 12\n",
        "c"
      ]
    },
    {
      "cell_type": "markdown",
      "source": [
        "## Matrixes"
      ],
      "metadata": {
        "id": "DDzi4PbLcjfT"
      }
    },
    {
      "cell_type": "code",
      "source": [
        "first_matrix <- matrix(1:12)  \n",
        "\n",
        "second_matrix <- matrix(1:7, nrow=3, ncol = 4, byrow = T)\n",
        "second_matrix"
      ],
      "metadata": {
        "id": "aaOyE2a_ltSs"
      },
      "execution_count": null,
      "outputs": []
    },
    {
      "cell_type": "markdown",
      "source": [
        ">_byrow_: matrix content is filled by row (by default, matrix content is filled by column)."
      ],
      "metadata": {
        "id": "2ilV8vOZdDwd"
      }
    },
    {
      "cell_type": "code",
      "source": [
        "r1 <- c(1,2,3)\n",
        "r2 <- c(4,5,6)\n",
        "r3 <- c(7,8,9)\n",
        "matrica2 <- matrix(c(r1, r2, r3), ncol = 4, byrow = T)\n",
        "matrica2"
      ],
      "metadata": {
        "id": "hI-cSveTdajn"
      },
      "execution_count": null,
      "outputs": []
    },
    {
      "cell_type": "code",
      "source": [
        "pon <- c(6, 15, 19)\n",
        "uto <- c(0, 6, 7)\n",
        "sri <- c(-1, 4, 4)\n",
        "cet <- c(-1, 2, 1)\n",
        "\n",
        "temperature <- matrix(c(pon, uto, sri, cet), nrow = 4, byrow = T)\n",
        "# printing the temperature variable:\n",
        "temperature"
      ],
      "metadata": {
        "id": "FE2Y4zJdexic"
      },
      "execution_count": null,
      "outputs": []
    },
    {
      "cell_type": "markdown",
      "source": [
        "> _c_ is a vector!"
      ],
      "metadata": {
        "id": "75ETiuijfdXq"
      }
    },
    {
      "cell_type": "code",
      "source": [
        "temperature"
      ],
      "metadata": {
        "id": "Dsc6zNU5fwV6"
      },
      "execution_count": null,
      "outputs": []
    },
    {
      "cell_type": "markdown",
      "source": [
        "> Variables from all cells can be used in any cell."
      ],
      "metadata": {
        "id": "Ef5zTR5cfzqS"
      }
    },
    {
      "cell_type": "markdown",
      "source": [
        "## Adding row and column names to a matrix"
      ],
      "metadata": {
        "id": "3axJVkqjg8Q3"
      }
    },
    {
      "cell_type": "code",
      "source": [
        "column_names <- c('Morning', 'Afternoon', 'Evening')\n",
        "row_names <- c('Mon', 'Tue', 'Wed', 'Thu')\n",
        "\n",
        "rownames(temperature) <- row_names\n",
        "colnames(temperature) <- column_names\n",
        "temperature"
      ],
      "metadata": {
        "id": "OvyFPNm4gDn7"
      },
      "execution_count": null,
      "outputs": []
    },
    {
      "cell_type": "markdown",
      "source": [
        "## Adding matrix rows and columns"
      ],
      "metadata": {
        "id": "3bmLt0eyh5Kq"
      }
    },
    {
      "cell_type": "code",
      "source": [
        "parni <- matrix(seq(2, 18, 2), ncol = 3, byrow = T)\n",
        "parni\n",
        "rowSums(parni)\n",
        "colSums(parni)\n",
        "\n",
        "matrix(rowSums(parni))\n",
        "matrix(colSums(parni), 1:3)"
      ],
      "metadata": {
        "id": "3RgAwnN0hGg3"
      },
      "execution_count": null,
      "outputs": []
    },
    {
      "cell_type": "markdown",
      "source": [
        "## Binding matrixes"
      ],
      "metadata": {
        "id": "eJqDrcVziypt"
      }
    },
    {
      "cell_type": "code",
      "source": [
        "Fri <- c(4, 12, 18)\n",
        "#Binding values from _pet_ matrix to _temperature_ matrix\n",
        "temperature <- rbind(temperature, Fri)\n",
        "Sat <- c(2, 4, 6)\n",
        "temperature <- rbind(temperature, Sat)\n",
        "Sun <- c(1, 2, 3)\n",
        "temperature <- rbind(temperature, Sun)\n",
        "temperature"
      ],
      "metadata": {
        "id": "Yfle26d0i22e"
      },
      "execution_count": null,
      "outputs": []
    },
    {
      "cell_type": "code",
      "source": [
        "Night <- c(0,0,0)\n",
        "temperature <- cbind(temperature, Night)\n",
        "Sunrise <- c(2)\n",
        "temperature <- cbind(temperature, Sunrise)\n",
        "temperature"
      ],
      "metadata": {
        "id": "ezrcwbKwmWo3"
      },
      "execution_count": null,
      "outputs": []
    },
    {
      "cell_type": "code",
      "source": [
        "Sunrise2 <- c(1,2)\n",
        "temperature <- cbind(temperature, Sunrise2)\n",
        "temperature"
      ],
      "metadata": {
        "id": "FRIA6WtMnBEE"
      },
      "execution_count": null,
      "outputs": []
    },
    {
      "cell_type": "markdown",
      "source": [
        "> Some matrix columns and rows are repeated. This is beacuse a cell has been executed more than once."
      ],
      "metadata": {
        "id": "-JW7qi5RnM31"
      }
    },
    {
      "cell_type": "code",
      "source": [
        "# Average temperature value for Afternoon column.\n",
        "mean(temperature[,'Afternoon'])\n",
        "\n"
      ],
      "metadata": {
        "colab": {
          "base_uri": "https://localhost:8080/",
          "height": 34
        },
        "id": "jVC_Q_yQnYKX",
        "outputId": "98e25dc3-1040-4b7f-f749-e1d1fa44bc1b"
      },
      "execution_count": 57,
      "outputs": [
        {
          "output_type": "display_data",
          "data": {
            "text/html": [
              "7.79166666666667"
            ],
            "text/markdown": "7.79166666666667",
            "text/latex": "7.79166666666667",
            "text/plain": [
              "[1] 7.791667"
            ]
          },
          "metadata": {}
        }
      ]
    }
  ]
}